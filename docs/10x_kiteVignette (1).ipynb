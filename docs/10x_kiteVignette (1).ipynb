{
 "cells": [
  {
   "cell_type": "markdown",
   "metadata": {},
   "source": [
    "# Feature Barcode pre-processing with kite"
   ]
  },
  {
   "cell_type": "markdown",
   "metadata": {},
   "source": [
    "This notebook shows how to use kallisto | bustools for fast and accurate pre-processing for Feature Barcoding experiments, a common datatype in single-cell genomics. It uses kallisto 0.46 and bustools 0.39.2. ScanPy is used for downstream analysis. "
   ]
  },
  {
   "cell_type": "markdown",
   "metadata": {},
   "source": [
    "In Feature Barcoding assays, cellular data are recorded as short DNA sequences using procedures adapted from single-cell RNA-seq. The __kITE (\"kallisto Indexing and Tag Extraction__\") workflow involves generating a \"Mismatch Map\" containing the sequences of all Feature Barcodes used in the experiment as well as all of their single-base mismatches. The Mismatch Map is used to produce transcipt-to-gene (t2g) and fasta files to be used as inputs for kallisto. An index is made with `kallisto index`, then kallisto | bustools  effectively searches the sequencing data for the sequences in the Mismatch Map. We find that for Feature Barcodes of moderate length (6-15bp) pre-processing is remarkably fast and the results equivalent to or better than those from traditional alignment. "
   ]
  },
  {
   "cell_type": "markdown",
   "metadata": {},
   "source": [
    "This notebook contains python scripts used to generate the required t2g and fasta files starting with a list of __Feature Barcodes in a Python dictionary object__. To illustrate their use, data from the 10x Genomics __pbmc_1k_protein_v3__ dataset were used and the results compared with CellRanger. "
   ]
  },
  {
   "cell_type": "markdown",
   "metadata": {},
   "source": [
    "### Install and test kite"
   ]
  },
  {
   "cell_type": "markdown",
   "metadata": {},
   "source": [
    "Use the Terminal to __Navigate to a new working directory__ and __download kite from GitHub__\n",
    "\n",
    "```\n",
    "mkdir ./10xTest/\n",
    "cd ./10xTest/\n",
    "git clone https://github.com/jgehringUCB/kite \n",
    "mv ./kite/docs/10x_kiteVignette.ipynb ./\n",
    "```\n",
    "\n",
    "Move this notebook from the `./kite/docs/` folder to the working directory `./`, then open it and begin..."
   ]
  },
  {
   "cell_type": "code",
   "execution_count": 1,
   "metadata": {},
   "outputs": [
    {
     "name": "stdout",
     "output_type": "stream",
     "text": [
      "10x_kiteVignette.ipynb\tkite\r\n"
     ]
    }
   ],
   "source": [
    "!ls"
   ]
  },
  {
   "cell_type": "code",
   "execution_count": 2,
   "metadata": {},
   "outputs": [
    {
     "name": "stdout",
     "output_type": "stream",
     "text": [
      "kallisto, version 0.46.0\r\n"
     ]
    }
   ],
   "source": [
    "!kallisto version"
   ]
  },
  {
   "cell_type": "code",
   "execution_count": 3,
   "metadata": {},
   "outputs": [
    {
     "name": "stdout",
     "output_type": "stream",
     "text": [
      "bustools 0.39.2\r\n",
      "\r\n",
      "Usage: bustools <CMD> [arguments] ..\r\n",
      "\r\n",
      "Where <CMD> can be one of: \r\n",
      "\r\n",
      "sort            Sort bus file by barcodes and UMI\r\n",
      "text            Output as tab separated text file\r\n",
      "correct         Error correct bus files\r\n",
      "count           Generate count matrices from bus file\r\n",
      "capture         Capture reads mapping to a transcript capture list\r\n",
      "\r\n",
      "Running bustools <CMD> without arguments prints usage information for <CMD>\r\n",
      "\r\n"
     ]
    }
   ],
   "source": [
    "!bustools"
   ]
  },
  {
   "cell_type": "code",
   "execution_count": 4,
   "metadata": {},
   "outputs": [
    {
     "name": "stdout",
     "output_type": "stream",
     "text": [
      "Obtaining file:///home/jgehring/scRNAseq/kITE/10xTest2/kite\n",
      "Installing collected packages: kite\n",
      "  Found existing installation: kite 0.0.1\n",
      "    Uninstalling kite-0.0.1:\n",
      "      Successfully uninstalled kite-0.0.1\n",
      "  Running setup.py develop for kite\n",
      "Successfully installed kite\n"
     ]
    }
   ],
   "source": [
    "!pip install --force-reinstall -e ./kite"
   ]
  },
  {
   "cell_type": "code",
   "execution_count": 5,
   "metadata": {},
   "outputs": [],
   "source": [
    "import kite"
   ]
  },
  {
   "cell_type": "code",
   "execution_count": 6,
   "metadata": {},
   "outputs": [
    {
     "name": "stdout",
     "output_type": "stream",
     "text": [
      "0.0.1\n"
     ]
    }
   ],
   "source": [
    "kite.version()"
   ]
  },
  {
   "cell_type": "markdown",
   "metadata": {},
   "source": [
    "### Download Dataset - raw fastqs"
   ]
  },
  {
   "cell_type": "markdown",
   "metadata": {},
   "source": [
    "Link to data download page: [10xPBMC_1k_protein_v3](https://support.10xgenomics.com/single-cell-gene-expression/datasets/3.0.0/pbmc_1k_protein_v3)"
   ]
  },
  {
   "cell_type": "code",
   "execution_count": 7,
   "metadata": {},
   "outputs": [
    {
     "name": "stdout",
     "output_type": "stream",
     "text": [
      "--2019-06-28 10:47:18--  http://cf.10xgenomics.com/samples/cell-exp/3.0.0/pbmc_1k_protein_v3/pbmc_1k_protein_v3_fastqs.tar\n",
      "Resolving cf.10xgenomics.com (cf.10xgenomics.com)... 13.35.99.77, 13.35.99.113, 13.35.99.80, ...\n",
      "Connecting to cf.10xgenomics.com (cf.10xgenomics.com)|13.35.99.77|:80... connected.\n",
      "HTTP request sent, awaiting response... 200 OK\n",
      "Length: 4658677760 (4.3G) [application/x-tar]\n",
      "Saving to: ‘pbmc_1k_protein_v3_fastqs.tar’\n",
      "\n",
      "100%[====================================>] 4,658,677,760  112MB/s   in 41s    \n",
      "\n",
      "2019-06-28 10:47:59 (109 MB/s) - ‘pbmc_1k_protein_v3_fastqs.tar’ saved [4658677760/4658677760]\n",
      "\n",
      "pbmc_1k_protein_v3_fastqs/\n",
      "pbmc_1k_protein_v3_fastqs/pbmc_1k_protein_v3_antibody_fastqs/\n",
      "pbmc_1k_protein_v3_fastqs/pbmc_1k_protein_v3_antibody_fastqs/pbmc_1k_protein_v3_antibody_S2_L002_R2_001.fastq.gz\n",
      "pbmc_1k_protein_v3_fastqs/pbmc_1k_protein_v3_antibody_fastqs/pbmc_1k_protein_v3_antibody_S2_L001_I1_001.fastq.gz\n",
      "pbmc_1k_protein_v3_fastqs/pbmc_1k_protein_v3_antibody_fastqs/pbmc_1k_protein_v3_antibody_S2_L002_R1_001.fastq.gz\n",
      "pbmc_1k_protein_v3_fastqs/pbmc_1k_protein_v3_antibody_fastqs/pbmc_1k_protein_v3_antibody_S2_L001_R1_001.fastq.gz\n",
      "pbmc_1k_protein_v3_fastqs/pbmc_1k_protein_v3_antibody_fastqs/pbmc_1k_protein_v3_antibody_S2_L001_R2_001.fastq.gz\n",
      "pbmc_1k_protein_v3_fastqs/pbmc_1k_protein_v3_antibody_fastqs/pbmc_1k_protein_v3_antibody_S2_L002_I1_001.fastq.gz\n",
      "pbmc_1k_protein_v3_fastqs/pbmc_1k_protein_v3_gex_fastqs/\n",
      "pbmc_1k_protein_v3_fastqs/pbmc_1k_protein_v3_gex_fastqs/pbmc_1k_protein_v3_gex_S1_L002_R2_001.fastq.gz\n",
      "pbmc_1k_protein_v3_fastqs/pbmc_1k_protein_v3_gex_fastqs/pbmc_1k_protein_v3_gex_S1_L001_I1_001.fastq.gz\n",
      "pbmc_1k_protein_v3_fastqs/pbmc_1k_protein_v3_gex_fastqs/pbmc_1k_protein_v3_gex_S1_L002_R1_001.fastq.gz\n",
      "pbmc_1k_protein_v3_fastqs/pbmc_1k_protein_v3_gex_fastqs/pbmc_1k_protein_v3_gex_S1_L001_R1_001.fastq.gz\n",
      "pbmc_1k_protein_v3_fastqs/pbmc_1k_protein_v3_gex_fastqs/pbmc_1k_protein_v3_gex_S1_L001_R2_001.fastq.gz\n",
      "pbmc_1k_protein_v3_fastqs/pbmc_1k_protein_v3_gex_fastqs/pbmc_1k_protein_v3_gex_S1_L002_I1_001.fastq.gz\n"
     ]
    }
   ],
   "source": [
    "!wget http://cf.10xgenomics.com/samples/cell-exp/3.0.0/pbmc_1k_protein_v3/pbmc_1k_protein_v3_fastqs.tar\n",
    "!tar -xvf ./pbmc_1k_protein_v3_fastqs.tar"
   ]
  },
  {
   "cell_type": "markdown",
   "metadata": {},
   "source": [
    "We should also grab the antibody barcode sequences which 10x Genomics has placed in a csv file. "
   ]
  },
  {
   "cell_type": "code",
   "execution_count": 8,
   "metadata": {},
   "outputs": [
    {
     "name": "stdout",
     "output_type": "stream",
     "text": [
      "--2019-06-28 10:48:04--  http://cf.10xgenomics.com/samples/cell-exp/3.0.0/pbmc_1k_protein_v3/pbmc_1k_protein_v3_feature_ref.csv\r\n",
      "Resolving cf.10xgenomics.com (cf.10xgenomics.com)... 13.35.99.77, 13.35.99.80, 13.35.99.113, ...\r\n",
      "Connecting to cf.10xgenomics.com (cf.10xgenomics.com)|13.35.99.77|:80... connected.\r\n",
      "HTTP request sent, awaiting response... 200 OK\r\n",
      "Length: 1473 (1.4K) [text/csv]\r\n",
      "Saving to: ‘pbmc_1k_protein_v3_feature_ref.csv’\r\n",
      "\r\n",
      "\r",
      " 0% [                                       ] 0           --.-K/s              \r",
      "100%[======================================>] 1,473       --.-K/s   in 0s      \r\n",
      "\r\n",
      "2019-06-28 10:48:04 (115 MB/s) - ‘pbmc_1k_protein_v3_feature_ref.csv’ saved [1473/1473]\r\n",
      "\r\n"
     ]
    }
   ],
   "source": [
    "!wget http://cf.10xgenomics.com/samples/cell-exp/3.0.0/pbmc_1k_protein_v3/pbmc_1k_protein_v3_feature_ref.csv"
   ]
  },
  {
   "cell_type": "markdown",
   "metadata": {},
   "source": [
    "And I'll copy the CellRanger cell barcode whitelist here as well. You can download it as part of CellRanger. See this link https://kb.10xgenomics.com/hc/en-us/articles/115004506263-What-is-a-barcode-whitelist-"
   ]
  },
  {
   "cell_type": "code",
   "execution_count": 9,
   "metadata": {},
   "outputs": [
    {
     "name": "stdout",
     "output_type": "stream",
     "text": [
      "mv: cannot stat ‘./kite/docs/3M-february-2018.txt.gz’: No such file or directory\n",
      "gzip: ./3M-february-2018.txt.gz: No such file or directory\n"
     ]
    }
   ],
   "source": [
    "!mv ./kite/docs/3M-february-2018.txt.gz ./\n",
    "!gunzip ./3M-february-2018.txt.gz"
   ]
  },
  {
   "cell_type": "code",
   "execution_count": 10,
   "metadata": {},
   "outputs": [
    {
     "name": "stdout",
     "output_type": "stream",
     "text": [
      "10x_kiteVignette.ipynb\t   pbmc_1k_protein_v3_fastqs.tar\r\n",
      "kite\t\t\t   pbmc_1k_protein_v3_feature_ref.csv\r\n",
      "pbmc_1k_protein_v3_fastqs\r\n"
     ]
    }
   ],
   "source": [
    "!ls"
   ]
  },
  {
   "cell_type": "markdown",
   "metadata": {},
   "source": [
    "### Prepare a fasta file of Feature Barcodes"
   ]
  },
  {
   "cell_type": "markdown",
   "metadata": {},
   "source": [
    "Create a fasta file containing only the Feature Barcode sequences (no common or constant sequences) and corresponding Feature Names used in the experiment. Place this file in the same directory as the raw fastq files. In this case, 10x has provided a csv file that I parse using the get_tags function below. The objects tags is the Python Feature Barocde dictionary that I need for kite. "
   ]
  },
  {
   "cell_type": "code",
   "execution_count": 11,
   "metadata": {},
   "outputs": [],
   "source": [
    "import csv"
   ]
  },
  {
   "cell_type": "code",
   "execution_count": 12,
   "metadata": {},
   "outputs": [],
   "source": [
    "def get_tags(filename):\n",
    "    with open(filename, mode='r') as csv_file:\n",
    "        csv_reader = csv.reader(csv_file)\n",
    "        tags = {}\n",
    "        next(csv_reader)\n",
    "        for row in csv_reader:\n",
    "            tags[row[1].strip()] = row[4].strip()\n",
    "    return tags\n",
    "\n",
    "tags = get_tags('./pbmc_1k_protein_v3_feature_ref.csv')"
   ]
  },
  {
   "cell_type": "markdown",
   "metadata": {},
   "source": [
    "There are 17 Feature Barcodes in this experiment."
   ]
  },
  {
   "cell_type": "code",
   "execution_count": 13,
   "metadata": {},
   "outputs": [
    {
     "data": {
      "text/plain": [
       "{'CD3_TotalSeqB': 'AACAAGACCCTTGAG',\n",
       " 'CD4_TotalSeqB': 'TACCCGTAATAGCGT',\n",
       " 'CD8a_TotalSeqB': 'ATTGGCACTCAGATG',\n",
       " 'CD14_TotalSeqB': 'GAAAGTCAAAGCACT',\n",
       " 'CD15_TotalSeqB': 'ACGAATCAATCTGTG',\n",
       " 'CD16_TotalSeqB': 'GTCTTTGTCAGTGCA',\n",
       " 'CD56_TotalSeqB': 'GTTGTCCGACAATAC',\n",
       " 'CD19_TotalSeqB': 'TCAACGCTTGGCTAG',\n",
       " 'CD25_TotalSeqB': 'GTGCATTCAACAGTA',\n",
       " 'CD45RA_TotalSeqB': 'GATGAGAACAGGTTT',\n",
       " 'CD45RO_TotalSeqB': 'TGCATGTCATCGGTG',\n",
       " 'PD-1_TotalSeqB': 'AAGTCGTGAGGCATG',\n",
       " 'TIGIT_TotalSeqB': 'TGAAGGCTCATTTGT',\n",
       " 'CD127_TotalSeqB': 'ACATTGACGCAACTA',\n",
       " 'IgG2a_control_TotalSeqB': 'CTCTATTCAGACCAG',\n",
       " 'IgG1_control_TotalSeqB': 'ACTCACTGGAGTCTC',\n",
       " 'IgG2b_control_TotalSeqB': 'ATCACATCGTTGCCA'}"
      ]
     },
     "execution_count": 13,
     "metadata": {},
     "output_type": "execute_result"
    }
   ],
   "source": [
    "tags"
   ]
  },
  {
   "cell_type": "markdown",
   "metadata": {},
   "source": [
    "### Prepare mismatch fasta and t2g files"
   ]
  },
  {
   "cell_type": "markdown",
   "metadata": {},
   "source": [
    "Now call the kITE_Mismatch_Maps function with a fasta file of whitelist Feature Barcodes and destination paths for a newly generated mismatch t2g and mismatch fasta. "
   ]
  },
  {
   "cell_type": "code",
   "execution_count": 14,
   "metadata": {},
   "outputs": [
    {
     "name": "stdout",
     "output_type": "stream",
     "text": [
      "Feature Barcode Length: 15\n",
      "\n",
      "Read the following Feature Barcodes:\n",
      "CD3_TotalSeqB\n",
      "AACAAGACCCTTGAG\n",
      "CD4_TotalSeqB\n",
      "TACCCGTAATAGCGT\n",
      "CD8a_TotalSeqB\n",
      "ATTGGCACTCAGATG\n",
      "CD14_TotalSeqB\n",
      "GAAAGTCAAAGCACT\n",
      "CD15_TotalSeqB\n",
      "ACGAATCAATCTGTG\n",
      "CD16_TotalSeqB\n",
      "GTCTTTGTCAGTGCA\n",
      "CD56_TotalSeqB\n",
      "GTTGTCCGACAATAC\n",
      "CD19_TotalSeqB\n",
      "TCAACGCTTGGCTAG\n",
      "CD25_TotalSeqB\n",
      "GTGCATTCAACAGTA\n",
      "CD45RA_TotalSeqB\n",
      "GATGAGAACAGGTTT\n",
      "CD45RO_TotalSeqB\n",
      "TGCATGTCATCGGTG\n",
      "PD-1_TotalSeqB\n",
      "AAGTCGTGAGGCATG\n",
      "TIGIT_TotalSeqB\n",
      "TGAAGGCTCATTTGT\n",
      "CD127_TotalSeqB\n",
      "ACATTGACGCAACTA\n",
      "IgG2a_control_TotalSeqB\n",
      "CTCTATTCAGACCAG\n",
      "IgG1_control_TotalSeqB\n",
      "ACTCACTGGAGTCTC\n",
      "IgG2b_control_TotalSeqB\n",
      "ATCACATCGTTGCCA\n",
      "The t2g and fasta files are now ready\n"
     ]
    }
   ],
   "source": [
    "\"t2g_path is where your t2g file will be placed. This file is used by the bustools count function\"\n",
    "t2g_path = \"./10xFeatures_t2g.txt\"\n",
    "\n",
    "\"fasta_path is where your fasta file will be placed. This file is used by the kallisto function\"\n",
    "fasta_path= \"./10xFeaturesMismatch.fa\"\n",
    "\n",
    "kite.kite_mismatch_maps(tags, t2g_path, fasta_path)"
   ]
  },
  {
   "cell_type": "code",
   "execution_count": 15,
   "metadata": {},
   "outputs": [
    {
     "name": "stdout",
     "output_type": "stream",
     "text": [
      "10xFeaturesMismatch.fa\t    output.bus\r\n",
      "10xFeaturesMismatch.idx     output_corrected.bus\r\n",
      "10xFeatures_t2g.txt\t    output_sorted.bus\r\n",
      "10x_kiteVignette.ipynb\t    pbmc_1k_protein_v3_fastqs\r\n",
      "3M-february-2018.txt\t    pbmc_1k_protein_v3_fastqs.tar\r\n",
      "filtered_feature_bc_matrix  pbmc_1k_protein_v3_feature_ref.csv\r\n",
      "genecount\t\t    run_info.json\r\n",
      "kite\t\t\t    transcripts.txt\r\n",
      "matrix.ec\r\n"
     ]
    }
   ],
   "source": [
    "!ls '../10xTest/'"
   ]
  },
  {
   "cell_type": "markdown",
   "metadata": {},
   "source": [
    "# From here, kallisto | bustools is followed in a standard analysis\n",
    "\n",
    "With the files produced above, the kallisto single-cell pipeline is employed using the mismatch fasta and t2g files generated above. In kallisto index, the mismatch fasta is used along with a k-mer length equal the length of the Feature Barcode. In bustools count, the mismatch t2g file is referenced. "
   ]
  },
  {
   "cell_type": "markdown",
   "metadata": {},
   "source": [
    "\n",
    "    \n",
    "The rest of this notebook completes the analysis using kallisto | bustools and compares the results to CellRanger using the ScanPy single-cell analysis package. "
   ]
  },
  {
   "cell_type": "code",
   "execution_count": 16,
   "metadata": {},
   "outputs": [
    {
     "name": "stdout",
     "output_type": "stream",
     "text": [
      "\r\n",
      "[build] loading fasta file ./10xFeaturesMismatch.fa\r\n",
      "[build] k-mer length: 15\r\n",
      "[build] counting k-mers ... done.\r\n",
      "[build] building target de Bruijn graph ...  done \r\n",
      "[build] creating equivalence classes ...  done\r\n",
      "[build] target de Bruijn graph has 782 contigs and contains 782 k-mers \r\n",
      "\r\n"
     ]
    }
   ],
   "source": [
    "\"\"\"\n",
    "Generate a kallisto index, setting the k-mer length k to the Feature Barcode length.\n",
    "\"\"\"\n",
    "\n",
    "!kallisto index -i ./10xFeaturesMismatch.idx -k 15 ./10xFeaturesMismatch.fa"
   ]
  },
  {
   "cell_type": "code",
   "execution_count": 17,
   "metadata": {},
   "outputs": [
    {
     "name": "stdout",
     "output_type": "stream",
     "text": [
      "[index] k-mer length: 15\r\n",
      "[index] number of targets: 782\r\n",
      "[index] number of k-mers: 782\r\n",
      "[index] number of equivalence classes: 782\r\n",
      "#[inspect] Index version number = 10\r\n",
      "#[inspect] k = 15\r\n",
      "#[inspect] number of targets = 782\r\n",
      "#[inspect] number of equivalence classes = 782\r\n",
      "#[inspect] number of contigs = 782\r\n",
      "#[inspect] Number of k-mers in index = 782\r\n",
      "#EC.size\tNum.targets\r\n",
      "1\t782\r\n",
      "\r\n",
      "\r\n",
      "#EC.size\tNum.kmers\r\n",
      "1\t782\r\n"
     ]
    }
   ],
   "source": [
    "\"\"\"\n",
    "Inspect the index\n",
    "\"\"\"\n",
    "\n",
    "!kallisto inspect ./10xFeaturesMismatch.idx"
   ]
  },
  {
   "cell_type": "code",
   "execution_count": 19,
   "metadata": {},
   "outputs": [
    {
     "name": "stdout",
     "output_type": "stream",
     "text": [
      "\n",
      "[index] k-mer length: 15\n",
      "[index] number of targets: 782\n",
      "[index] number of k-mers: 782\n",
      "[index] number of equivalence classes: 782\n",
      "[quant] will process sample 1: ./pbmc_1k_protein_v3_fastqs/pbmc_1k_protein_v3_antibody_fastqs/pbmc_1k_protein_v3_antibody_S2_L001_R1_001.fastq.gz\n",
      "                               ./pbmc_1k_protein_v3_fastqs/pbmc_1k_protein_v3_antibody_fastqs/pbmc_1k_protein_v3_antibody_S2_L001_R2_001.fastq.gz\n",
      "[quant] will process sample 2: ./pbmc_1k_protein_v3_fastqs/pbmc_1k_protein_v3_antibody_fastqs/pbmc_1k_protein_v3_antibody_S2_L002_R1_001.fastq.gz\n",
      "                               ./pbmc_1k_protein_v3_fastqs/pbmc_1k_protein_v3_antibody_fastqs/pbmc_1k_protein_v3_antibody_S2_L002_R2_001.fastq.gz\n",
      "[quant] finding pseudoalignments for the reads ... done\n",
      "[quant] processed 12,606,650 reads, 11,517,927 reads pseudoaligned\n"
     ]
    }
   ],
   "source": [
    "\"\"\"\n",
    "Call kallisto bus using the directory of the desired fastq files, the index to be used,\n",
    "sequencing technology used, number of threads, and output folder\n",
    "\"\"\"\n",
    "\n",
    "!kallisto bus -i ./10xFeaturesMismatch.idx -o ./ -x 10xv3 -t 4 \\\n",
    "./pbmc_1k_protein_v3_fastqs/pbmc_1k_protein_v3_antibody_fastqs/pbmc_1k_protein_v3_antibody_S2_L001_R1_001.fastq.gz \\\n",
    "./pbmc_1k_protein_v3_fastqs/pbmc_1k_protein_v3_antibody_fastqs/pbmc_1k_protein_v3_antibody_S2_L001_R2_001.fastq.gz \\\n",
    "./pbmc_1k_protein_v3_fastqs/pbmc_1k_protein_v3_antibody_fastqs/pbmc_1k_protein_v3_antibody_S2_L002_R1_001.fastq.gz \\\n",
    "./pbmc_1k_protein_v3_fastqs/pbmc_1k_protein_v3_antibody_fastqs/pbmc_1k_protein_v3_antibody_S2_L002_R2_001.fastq.gz \\\n"
   ]
  },
  {
   "cell_type": "code",
   "execution_count": 20,
   "metadata": {},
   "outputs": [
    {
     "name": "stdout",
     "output_type": "stream",
     "text": [
      "Error: File not found ./3M-february-2018.txt\r\n",
      "Usage: bustools text [options] bus-files\r\n",
      "\r\n",
      "Options: \r\n",
      "-o, --output          File for text output\r\n",
      "-p, --pipe            Write to standard output\r\n",
      "\r\n"
     ]
    }
   ],
   "source": [
    "\"\"\"\n",
    "Call bustools correct to error-correct the barcodes\n",
    "\"\"\"\n",
    "\n",
    "!bustools correct -w ./3M-february-2018.txt ./output.bus -o ./output_corrected.bus\n"
   ]
  },
  {
   "cell_type": "code",
   "execution_count": 21,
   "metadata": {},
   "outputs": [
    {
     "name": "stdout",
     "output_type": "stream",
     "text": [
      "Error: File not found, ./output_corrected.bus\r\n",
      "Usage: bustools sort [options] bus-files\r\n",
      "\r\n",
      "Options: \r\n",
      "-t, --threads         Number of threads to use\r\n",
      "-m, --memory          Maximum memory used\r\n",
      "-T, --temp            Location and prefix for temporary files \r\n",
      "                      required if using -p, otherwise defaults to output\r\n",
      "-o, --output          File for sorted output\r\n",
      "-p, --pipe            Write to standard output\r\n",
      "\r\n"
     ]
    }
   ],
   "source": [
    "\"\"\"\n",
    "Call bustools sort to sort the BUS file\n",
    "\"\"\"\n",
    "\n",
    "!bustools sort -t 4 -o ./output_sorted.bus ./output_corrected.bus"
   ]
  },
  {
   "cell_type": "code",
   "execution_count": 22,
   "metadata": {},
   "outputs": [
    {
     "name": "stdout",
     "output_type": "stream",
     "text": [
      "Error: File not found, ./output_sorted.bus\r\n",
      "Usage: bustools text [options] bus-files\r\n",
      "\r\n",
      "Options: \r\n",
      "-o, --output          File for text output\r\n",
      "-p, --pipe            Write to standard output\r\n",
      "\r\n"
     ]
    }
   ],
   "source": [
    "\"\"\"\n",
    "Call bustools count to generate an error-corrected genes x cells matrix\n",
    "You will need the t2g file generated earlier as well as standard BUS outputs\n",
    "\"\"\"\n",
    "\n",
    "!mkdir ./genecount/\n",
    "\n",
    "!bustools count -o ./genecount/genecounts --genecounts -g ./10xFeatures_t2g.txt -e ./matrix.ec -t ./transcripts.txt ./output_sorted.bus\n"
   ]
  },
  {
   "cell_type": "code",
   "execution_count": 23,
   "metadata": {},
   "outputs": [
    {
     "name": "stdout",
     "output_type": "stream",
     "text": [
      "10xFeaturesMismatch.fa\t output.bus\r\n",
      "10xFeaturesMismatch.idx  pbmc_1k_protein_v3_fastqs\r\n",
      "10xFeatures_t2g.txt\t pbmc_1k_protein_v3_fastqs.tar\r\n",
      "10x_kiteVignette.ipynb\t pbmc_1k_protein_v3_feature_ref.csv\r\n",
      "genecount\t\t run_info.json\r\n",
      "kite\t\t\t transcripts.txt\r\n",
      "matrix.ec\r\n"
     ]
    }
   ],
   "source": [
    "!ls"
   ]
  },
  {
   "cell_type": "markdown",
   "metadata": {},
   "source": [
    "The pre-processing is done, and the data can now be analyzed using, for example, the ScanPy single-cell analysis package. "
   ]
  },
  {
   "cell_type": "code",
   "execution_count": 24,
   "metadata": {},
   "outputs": [
    {
     "ename": "FileNotFoundError",
     "evalue": "[Errno 2] No such file or directory: './genecount/genecounts.mtx'",
     "output_type": "error",
     "traceback": [
      "\u001b[0;31m--------------------------------------------------------------------------\u001b[0m",
      "\u001b[0;31mFileNotFoundError\u001b[0m                        Traceback (most recent call last)",
      "\u001b[0;32m<ipython-input-24-3e006aa218af>\u001b[0m in \u001b[0;36m<module>\u001b[0;34m\u001b[0m\n\u001b[1;32m      4\u001b[0m \u001b[0;32mimport\u001b[0m \u001b[0mpandas\u001b[0m \u001b[0;32mas\u001b[0m \u001b[0mpd\u001b[0m\u001b[0;34m\u001b[0m\u001b[0;34m\u001b[0m\u001b[0m\n\u001b[1;32m      5\u001b[0m \u001b[0;34m\u001b[0m\u001b[0m\n\u001b[0;32m----> 6\u001b[0;31m \u001b[0mgenes\u001b[0m\u001b[0;34m=\u001b[0m\u001b[0msc\u001b[0m\u001b[0;34m.\u001b[0m\u001b[0mread_mtx\u001b[0m\u001b[0;34m(\u001b[0m\u001b[0;34m'./genecount/genecounts.mtx'\u001b[0m\u001b[0;34m)\u001b[0m\u001b[0;34m\u001b[0m\u001b[0;34m\u001b[0m\u001b[0m\n\u001b[0m",
      "\u001b[0;32m~/.local/lib/python3.6/site-packages/anndata/readwrite/read.py\u001b[0m in \u001b[0;36mread_mtx\u001b[0;34m(filename, dtype)\u001b[0m\n\u001b[1;32m    200\u001b[0m     \u001b[0;32mfrom\u001b[0m \u001b[0mscipy\u001b[0m\u001b[0;34m.\u001b[0m\u001b[0mio\u001b[0m \u001b[0;32mimport\u001b[0m \u001b[0mmmread\u001b[0m\u001b[0;34m\u001b[0m\u001b[0;34m\u001b[0m\u001b[0m\n\u001b[1;32m    201\u001b[0m     \u001b[0;31m# could be rewritten accounting for dtype to be more performant\u001b[0m\u001b[0;34m\u001b[0m\u001b[0;34m\u001b[0m\u001b[0;34m\u001b[0m\u001b[0m\n\u001b[0;32m--> 202\u001b[0;31m     \u001b[0mX\u001b[0m \u001b[0;34m=\u001b[0m \u001b[0mmmread\u001b[0m\u001b[0;34m(\u001b[0m\u001b[0mfspath\u001b[0m\u001b[0;34m(\u001b[0m\u001b[0mfilename\u001b[0m\u001b[0;34m)\u001b[0m\u001b[0;34m)\u001b[0m\u001b[0;34m.\u001b[0m\u001b[0mastype\u001b[0m\u001b[0;34m(\u001b[0m\u001b[0mdtype\u001b[0m\u001b[0;34m)\u001b[0m\u001b[0;34m\u001b[0m\u001b[0;34m\u001b[0m\u001b[0m\n\u001b[0m\u001b[1;32m    203\u001b[0m     \u001b[0;32mfrom\u001b[0m \u001b[0mscipy\u001b[0m\u001b[0;34m.\u001b[0m\u001b[0msparse\u001b[0m \u001b[0;32mimport\u001b[0m \u001b[0mcsr_matrix\u001b[0m\u001b[0;34m\u001b[0m\u001b[0;34m\u001b[0m\u001b[0m\n\u001b[1;32m    204\u001b[0m     \u001b[0mX\u001b[0m \u001b[0;34m=\u001b[0m \u001b[0mcsr_matrix\u001b[0m\u001b[0;34m(\u001b[0m\u001b[0mX\u001b[0m\u001b[0;34m)\u001b[0m\u001b[0;34m\u001b[0m\u001b[0;34m\u001b[0m\u001b[0m\n",
      "\u001b[0;32m~/.local/lib/python3.6/site-packages/scipy/io/mmio.py\u001b[0m in \u001b[0;36mmmread\u001b[0;34m(source)\u001b[0m\n\u001b[1;32m     74\u001b[0m         \u001b[0mMatrix\u001b[0m \u001b[0mMarket\u001b[0m \u001b[0mfile\u001b[0m\u001b[0;34m.\u001b[0m\u001b[0;34m\u001b[0m\u001b[0;34m\u001b[0m\u001b[0m\n\u001b[1;32m     75\u001b[0m     \"\"\"\n\u001b[0;32m---> 76\u001b[0;31m     \u001b[0;32mreturn\u001b[0m \u001b[0mMMFile\u001b[0m\u001b[0;34m(\u001b[0m\u001b[0;34m)\u001b[0m\u001b[0;34m.\u001b[0m\u001b[0mread\u001b[0m\u001b[0;34m(\u001b[0m\u001b[0msource\u001b[0m\u001b[0;34m)\u001b[0m\u001b[0;34m\u001b[0m\u001b[0;34m\u001b[0m\u001b[0m\n\u001b[0m\u001b[1;32m     77\u001b[0m \u001b[0;34m\u001b[0m\u001b[0m\n\u001b[1;32m     78\u001b[0m \u001b[0;31m# -----------------------------------------------------------------------------\u001b[0m\u001b[0;34m\u001b[0m\u001b[0;34m\u001b[0m\u001b[0;34m\u001b[0m\u001b[0m\n",
      "\u001b[0;32m~/.local/lib/python3.6/site-packages/scipy/io/mmio.py\u001b[0m in \u001b[0;36mread\u001b[0;34m(self, source)\u001b[0m\n\u001b[1;32m    412\u001b[0m             \u001b[0mMatrix\u001b[0m \u001b[0mMarket\u001b[0m \u001b[0mfile\u001b[0m\u001b[0;34m.\u001b[0m\u001b[0;34m\u001b[0m\u001b[0;34m\u001b[0m\u001b[0m\n\u001b[1;32m    413\u001b[0m         \"\"\"\n\u001b[0;32m--> 414\u001b[0;31m         \u001b[0mstream\u001b[0m\u001b[0;34m,\u001b[0m \u001b[0mclose_it\u001b[0m \u001b[0;34m=\u001b[0m \u001b[0mself\u001b[0m\u001b[0;34m.\u001b[0m\u001b[0m_open\u001b[0m\u001b[0;34m(\u001b[0m\u001b[0msource\u001b[0m\u001b[0;34m)\u001b[0m\u001b[0;34m\u001b[0m\u001b[0;34m\u001b[0m\u001b[0m\n\u001b[0m\u001b[1;32m    415\u001b[0m \u001b[0;34m\u001b[0m\u001b[0m\n\u001b[1;32m    416\u001b[0m         \u001b[0;32mtry\u001b[0m\u001b[0;34m:\u001b[0m\u001b[0;34m\u001b[0m\u001b[0;34m\u001b[0m\u001b[0m\n",
      "\u001b[0;32m~/.local/lib/python3.6/site-packages/scipy/io/mmio.py\u001b[0m in \u001b[0;36m_open\u001b[0;34m(filespec, mode)\u001b[0m\n\u001b[1;32m    312\u001b[0m                     \u001b[0mstream\u001b[0m \u001b[0;34m=\u001b[0m \u001b[0mbz2\u001b[0m\u001b[0;34m.\u001b[0m\u001b[0mBZ2File\u001b[0m\u001b[0;34m(\u001b[0m\u001b[0mfilespec\u001b[0m\u001b[0;34m,\u001b[0m \u001b[0;34m'rb'\u001b[0m\u001b[0;34m)\u001b[0m\u001b[0;34m\u001b[0m\u001b[0;34m\u001b[0m\u001b[0m\n\u001b[1;32m    313\u001b[0m                 \u001b[0;32melse\u001b[0m\u001b[0;34m:\u001b[0m\u001b[0;34m\u001b[0m\u001b[0;34m\u001b[0m\u001b[0m\n\u001b[0;32m--> 314\u001b[0;31m                     \u001b[0mstream\u001b[0m \u001b[0;34m=\u001b[0m \u001b[0mopen\u001b[0m\u001b[0;34m(\u001b[0m\u001b[0mfilespec\u001b[0m\u001b[0;34m,\u001b[0m \u001b[0mmode\u001b[0m\u001b[0;34m)\u001b[0m\u001b[0;34m\u001b[0m\u001b[0;34m\u001b[0m\u001b[0m\n\u001b[0m\u001b[1;32m    315\u001b[0m \u001b[0;34m\u001b[0m\u001b[0m\n\u001b[1;32m    316\u001b[0m             \u001b[0;31m# open for writing\u001b[0m\u001b[0;34m\u001b[0m\u001b[0;34m\u001b[0m\u001b[0;34m\u001b[0m\u001b[0m\n",
      "\u001b[0;31mFileNotFoundError\u001b[0m: [Errno 2] No such file or directory: './genecount/genecounts.mtx'"
     ]
    }
   ],
   "source": [
    "import scanpy.api as sc\n",
    "import numpy as np\n",
    "import matplotlib.pyplot as plt\n",
    "import pandas as pd\n",
    "\n",
    "genes=sc.read_mtx('./genecount/genecounts.mtx')"
   ]
  },
  {
   "cell_type": "code",
   "execution_count": null,
   "metadata": {},
   "outputs": [],
   "source": [
    "genes"
   ]
  },
  {
   "cell_type": "code",
   "execution_count": null,
   "metadata": {},
   "outputs": [],
   "source": [
    "genes.var_names=pd.read_csv('/home/jgehring/scRNAseq/kITE/10xTest/genecount/genecounts.genes.txt', header=None)[0]\n",
    "genes.obs_names=pd.read_csv('/home/jgehring/scRNAseq/kITE/10xTest/genecount/genecounts.barcodes.txt', header=None)[0]\n"
   ]
  },
  {
   "cell_type": "code",
   "execution_count": null,
   "metadata": {},
   "outputs": [],
   "source": [
    "genes.var_names"
   ]
  },
  {
   "cell_type": "code",
   "execution_count": null,
   "metadata": {},
   "outputs": [],
   "source": [
    "print(sum(genes.X))"
   ]
  },
  {
   "cell_type": "code",
   "execution_count": null,
   "metadata": {},
   "outputs": [],
   "source": [
    "sc.pp.filter_cells(genes,min_counts=0)"
   ]
  },
  {
   "cell_type": "code",
   "execution_count": null,
   "metadata": {},
   "outputs": [],
   "source": [
    "sc.pp.filter_genes(genes,min_counts=0)"
   ]
  },
  {
   "cell_type": "code",
   "execution_count": null,
   "metadata": {},
   "outputs": [],
   "source": [
    "sc.pl.violin(genes, keys='n_counts')"
   ]
  },
  {
   "cell_type": "code",
   "execution_count": null,
   "metadata": {},
   "outputs": [],
   "source": [
    "genes.obs['n_countslog']=np.log1p(genes.obs['n_counts'])"
   ]
  },
  {
   "cell_type": "code",
   "execution_count": null,
   "metadata": {},
   "outputs": [],
   "source": [
    "sc.pl.violin(genes, keys='n_countslog')"
   ]
  },
  {
   "cell_type": "code",
   "execution_count": null,
   "metadata": {},
   "outputs": [],
   "source": [
    "genes.obs_names"
   ]
  },
  {
   "cell_type": "code",
   "execution_count": null,
   "metadata": {},
   "outputs": [],
   "source": [
    "sc.pp.filter_cells(genes, min_counts=1000)\n",
    "sc.pl.violin(genes, keys='n_countslog', title=\"kallisto UMI counts\")\n",
    "genes"
   ]
  },
  {
   "cell_type": "code",
   "execution_count": null,
   "metadata": {},
   "outputs": [],
   "source": [
    "sc.pp.normalize_per_cell(genes, counts_per_cell_after=10000)"
   ]
  },
  {
   "cell_type": "code",
   "execution_count": null,
   "metadata": {},
   "outputs": [],
   "source": [
    "sc.pp.neighbors(genes)\n",
    "\n",
    "sc.tl.umap(genes)"
   ]
  },
  {
   "cell_type": "code",
   "execution_count": null,
   "metadata": {},
   "outputs": [],
   "source": [
    "sc.tl.leiden(genes, resolution=0.05)"
   ]
  },
  {
   "cell_type": "code",
   "execution_count": null,
   "metadata": {},
   "outputs": [],
   "source": [
    "sc.pl.umap(genes, color='leiden', palette='tab10')"
   ]
  },
  {
   "cell_type": "markdown",
   "metadata": {},
   "source": [
    "We can download the 10x Feature Barcodes x Cells matrix for comparison"
   ]
  },
  {
   "cell_type": "code",
   "execution_count": null,
   "metadata": {},
   "outputs": [],
   "source": [
    "!wget http://cf.10xgenomics.com/samples/cell-exp/3.0.0/pbmc_1k_protein_v3/pbmc_1k_protein_v3_filtered_feature_bc_matrix.tar.gz -P ../"
   ]
  },
  {
   "cell_type": "code",
   "execution_count": null,
   "metadata": {},
   "outputs": [],
   "source": [
    "!tar xvzf ../pbmc_1k_protein_v3_filtered_feature_bc_matrix.tar.gz"
   ]
  },
  {
   "cell_type": "code",
   "execution_count": null,
   "metadata": {},
   "outputs": [],
   "source": [
    "!ls ../filtered_feature_bc_matrix/"
   ]
  },
  {
   "cell_type": "code",
   "execution_count": null,
   "metadata": {},
   "outputs": [],
   "source": [
    "tenx = sc.read_mtx('../filtered_feature_bc_matrix/matrix.mtx.gz').T"
   ]
  },
  {
   "cell_type": "code",
   "execution_count": null,
   "metadata": {},
   "outputs": [],
   "source": [
    "\n",
    "tenx.var_names=pd.read_csv('../filtered_feature_bc_matrix/features.tsv.gz', delimiter='\\t', header=None)[1]\n",
    "\n"
   ]
  },
  {
   "cell_type": "code",
   "execution_count": null,
   "metadata": {},
   "outputs": [],
   "source": [
    "tenx.var_names_make_unique()"
   ]
  },
  {
   "cell_type": "code",
   "execution_count": null,
   "metadata": {},
   "outputs": [],
   "source": [
    "tenx"
   ]
  },
  {
   "cell_type": "code",
   "execution_count": null,
   "metadata": {},
   "outputs": [],
   "source": [
    "list(tenx.var_names[-17:])"
   ]
  },
  {
   "cell_type": "code",
   "execution_count": null,
   "metadata": {},
   "outputs": [],
   "source": [
    "tenxT=tenx.copy().T\n",
    "tenx=tenxT[tenxT.obs_names.isin(list(tenx.var_names[-17:]))].copy().T"
   ]
  },
  {
   "cell_type": "code",
   "execution_count": null,
   "metadata": {},
   "outputs": [],
   "source": [
    "tenx"
   ]
  },
  {
   "cell_type": "code",
   "execution_count": null,
   "metadata": {},
   "outputs": [],
   "source": [
    "tenx.var_names"
   ]
  },
  {
   "cell_type": "code",
   "execution_count": null,
   "metadata": {},
   "outputs": [],
   "source": [
    "sc.pp.filter_cells(tenx, min_counts=0)\n",
    "tenx.obs['n_countslog']=np.log1p(tenx.obs['n_counts'])\n",
    "sc.pl.violin(tenx, keys='n_countslog', title=\"CellRanger UMI distribution\")\n",
    "tenx"
   ]
  },
  {
   "cell_type": "markdown",
   "metadata": {},
   "source": [
    "Looks like 10x allowed some low-count cells that we filtered out. Compared with the same violin plot the kallisto analysis (\"genes\", above), the distributions are very similar."
   ]
  },
  {
   "cell_type": "code",
   "execution_count": null,
   "metadata": {},
   "outputs": [],
   "source": [
    "sc.pp.normalize_per_cell(tenx, counts_per_cell_after=10000)\n",
    "\n",
    "sc.pp.neighbors(tenx)\n",
    "\n",
    "sc.tl.umap(tenx)\n",
    "\n",
    "sc.tl.leiden(tenx, resolution=0.1)\n",
    "\n",
    "sc.pl.umap(tenx, color='leiden', palette='tab10')"
   ]
  },
  {
   "cell_type": "code",
   "execution_count": null,
   "metadata": {},
   "outputs": [],
   "source": [
    "sc.pl.violin(tenx, keys=list(tenx.var_names)[-17:], xlabel='CellRanger')\n",
    "sc.pl.violin(genes, keys=list(genes.var_names)[-17:], xlabel='kallisto')"
   ]
  },
  {
   "cell_type": "markdown",
   "metadata": {},
   "source": [
    "Here are violin plots for each protein (the Feature Barcodes, x-axis) across all cells. Aagin, kallisto and CellRanger are strikingly similar. "
   ]
  },
  {
   "cell_type": "code",
   "execution_count": null,
   "metadata": {},
   "outputs": [],
   "source": [
    "genes.var_names"
   ]
  },
  {
   "cell_type": "code",
   "execution_count": null,
   "metadata": {},
   "outputs": [],
   "source": [
    "sc.pl.umap(genes, color=genes.var_names)\n",
    "print(\"Embedding and Antibody Quantification using kallisto\")"
   ]
  },
  {
   "cell_type": "code",
   "execution_count": null,
   "metadata": {},
   "outputs": [],
   "source": [
    "sc.pl.umap(tenx, color=genes.var_names)\n",
    "print(\"Embedding and Antibody Quantification using CellRanger\")"
   ]
  },
  {
   "cell_type": "code",
   "execution_count": null,
   "metadata": {},
   "outputs": [],
   "source": [
    "sc.pl.violin(tenx, keys=tenx.var_names[:2], groupby='leiden', title='CellRanger')\n",
    "print(\"10x CellRanger\")\n",
    "sc.pl.violin(genes, keys=tenx.var_names[:2], groupby='leiden')\n",
    "print(\"kallisto | bustools\")"
   ]
  },
  {
   "cell_type": "markdown",
   "metadata": {},
   "source": [
    "In the plot above, independent analyses by CellRanger and kallisto are compared. The top two violin plots are for the proteins CD3 and CD4 across clusters. Using four clusters for the kallisto analysis gave highly similar expression patterns for the same genes, indicating that the analyses are highly correlated. "
   ]
  },
  {
   "cell_type": "code",
   "execution_count": null,
   "metadata": {},
   "outputs": [],
   "source": [
    "plt.plot(sum(tenx.X).todense().tolist()[0], sum(tenx.X).todense().tolist()[0])\n",
    "plt.scatter(sum(tenx.X).todense().tolist()[0], sum(genes.X).todense().tolist()[0], color='r')\n",
    "plt.ylabel(\"kallisto\")\n",
    "plt.xlabel(\"CellRanger\")\n",
    "plt.show()"
   ]
  },
  {
   "cell_type": "markdown",
   "metadata": {},
   "source": [
    "In the plot above, 'pseudobulk' expression values are compared for each antibody-oligo conjugate (Feature Barcode) using kallisto or CellRanger. The two analyses show a high degree of similarity, with r^2=0.9985"
   ]
  },
  {
   "cell_type": "code",
   "execution_count": null,
   "metadata": {},
   "outputs": [],
   "source": [
    "from scipy import stats\n",
    "import numpy as np"
   ]
  },
  {
   "cell_type": "code",
   "execution_count": null,
   "metadata": {},
   "outputs": [],
   "source": [
    "slope, intercept, r_value, p_value, std_err = stats.linregress(sum(tenx.X).todense().tolist()[0],sum(genes.X).todense().tolist()[0])"
   ]
  },
  {
   "cell_type": "code",
   "execution_count": null,
   "metadata": {},
   "outputs": [],
   "source": [
    "print(\"r-squared:\", r_value**2)"
   ]
  },
  {
   "cell_type": "code",
   "execution_count": null,
   "metadata": {},
   "outputs": [],
   "source": []
  }
 ],
 "metadata": {
  "kernelspec": {
   "display_name": "Python 3",
   "language": "python",
   "name": "python3"
  },
  "language_info": {
   "codemirror_mode": {
    "name": "ipython",
    "version": 3
   },
   "file_extension": ".py",
   "mimetype": "text/x-python",
   "name": "python",
   "nbconvert_exporter": "python",
   "pygments_lexer": "ipython3",
   "version": "3.6.8"
  }
 },
 "nbformat": 4,
 "nbformat_minor": 2
}
